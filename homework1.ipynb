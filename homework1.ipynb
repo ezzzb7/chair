{
 "cells": [
  {
   "cell_type": "code",
   "execution_count": 38,
   "metadata": {},
   "outputs": [
    {
     "name": "stdout",
     "output_type": "stream",
     "text": [
      "★★★★★★★★★★★\n",
      "★ 数据科学工程导论 ★\n",
      "★★★★★★★★★★★\n"
     ]
    }
   ],
   "source": [
    "x=11\n",
    "print(chr(0x2605)*x)\n",
    "print(chr(0x2605),\"数据科学工程导论\",chr(0x2605))\n",
    "print(chr(0x2605)*x)"
   ]
  },
  {
   "cell_type": "code",
   "execution_count": 2,
   "metadata": {},
   "outputs": [
    {
     "name": "stdout",
     "output_type": "stream",
     "text": [
      "1.0 5.0 10.0\n"
     ]
    }
   ],
   "source": [
    "x=float(input(\"x: \"))  \n",
    "y=float(input(\"y: \"))  \n",
    "z=float(input(\"z: \"))  \n",
    "if x<=y and x<=z:  \n",
    "    if y<=z:  \n",
    "        print(x,y,z)  \n",
    "    else:  \n",
    "        print(x,z,y)  \n",
    "elif y<=x and y<=z: \n",
    "    if x<=z: \n",
    "        print(y,x,z)  \n",
    "    else: \n",
    "        print(z,y,x)  \n",
    "else:   \n",
    "    if x<=y:  \n",
    "        print(z,x,y)  \n",
    "    else:  \n",
    "        print(z,y,x)"
   ]
  },
  {
   "cell_type": "code",
   "execution_count": 17,
   "metadata": {},
   "outputs": [
    {
     "name": "stdout",
     "output_type": "stream",
     "text": [
      "[9.0, 5.0, 4.0, 2.0]\n"
     ]
    }
   ],
   "source": [
    "x=float(input(\"x: \"))\n",
    "y=float(input(\"y: \"))\n",
    "z=float(input(\"z: \")) \n",
    "w=float(input(\"w: \"))\n",
    "shuzi=[x,y,z,w]\n",
    "shuzi=sorted(shuzi,reverse=True)\n",
    "print(shuzi)"
   ]
  },
  {
   "cell_type": "code",
   "execution_count": 3,
   "metadata": {},
   "outputs": [
    {
     "name": "stdout",
     "output_type": "stream",
     "text": [
      "1\n",
      "3\n",
      "5\n",
      "7\n",
      "9\n",
      "11\n",
      "13\n",
      "15\n",
      "17\n",
      "19\n",
      "21\n",
      "23\n",
      "25\n",
      "27\n",
      "29\n",
      "31\n",
      "33\n",
      "35\n",
      "37\n",
      "39\n",
      "41\n",
      "43\n",
      "45\n",
      "47\n",
      "49\n",
      "51\n",
      "53\n",
      "55\n",
      "57\n",
      "59\n",
      "61\n",
      "63\n",
      "65\n",
      "67\n",
      "69\n",
      "71\n",
      "73\n",
      "75\n",
      "77\n",
      "79\n",
      "81\n",
      "83\n",
      "85\n",
      "87\n",
      "89\n",
      "91\n",
      "93\n",
      "95\n",
      "97\n",
      "99\n"
     ]
    }
   ],
   "source": [
    "for i in range(1,101,2):\n",
    "    print(i)"
   ]
  },
  {
   "cell_type": "code",
   "execution_count": 4,
   "metadata": {},
   "outputs": [
    {
     "name": "stdout",
     "output_type": "stream",
     "text": [
      "5050\n"
     ]
    }
   ],
   "source": [
    "he=0\n",
    "for i in range(1,101,1):\n",
    "    he+=i\n",
    "print(he)"
   ]
  },
  {
   "cell_type": "code",
   "execution_count": 15,
   "metadata": {},
   "outputs": [
    {
     "name": "stdout",
     "output_type": "stream",
     "text": [
      "5\n",
      "4\n",
      "3\n",
      "2\n",
      "1\n",
      "5\n",
      "4\n",
      "3\n",
      "2\n",
      "1\n"
     ]
    }
   ],
   "source": [
    "L=[1,2,3,4,5]\n",
    "M=[1,2,3,4,5]\n",
    "for i in range(len(L)-1,-1,-1):\n",
    "    print(L[i])\n",
    "place=len(M)-1\n",
    "while place>=0:\n",
    "    print(M[place])\n",
    "    place-=1"
   ]
  },
  {
   "cell_type": "code",
   "execution_count": 22,
   "metadata": {},
   "outputs": [
    {
     "name": "stdout",
     "output_type": "stream",
     "text": [
      "包含连续相同字符\n"
     ]
    }
   ],
   "source": [
    "s=input(\"字符串： \")\n",
    "pan=0\n",
    "for i in range(len(s)-1):\n",
    "    if s[i]==s[i+1]:\n",
    "        pan=1\n",
    "if pan==1:\n",
    "    print(\"包含连续相同字符\")\n",
    "else:\n",
    "    print(\"不包含连续相同字符\")"
   ]
  },
  {
   "cell_type": "code",
   "execution_count": 23,
   "metadata": {},
   "outputs": [
    {
     "name": "stdout",
     "output_type": "stream",
     "text": [
      "helloworldnihaowoshishei\n"
     ]
    }
   ],
   "source": [
    "s=input(\"字符串：\")\n",
    "answer=s.replace(\" \",\"\")\n",
    "print(answer)"
   ]
  },
  {
   "cell_type": "code",
   "execution_count": 2,
   "metadata": {},
   "outputs": [
    {
     "name": "stdout",
     "output_type": "stream",
     "text": [
      "2.0\n"
     ]
    }
   ],
   "source": [
    "def cube_root(a, tolerance=1e-10, max_iterations=1000):  \n",
    "    if a == 0:  \n",
    "        return 0  \n",
    "    if a < 0:  \n",
    "        return -cube_root(-a)  \n",
    "    x = max(a ** 0.1, 1e-10) \n",
    "    for _ in range(max_iterations):  \n",
    "        next_x = (2 * x + a / (x ** 2)) / 3   \n",
    "        if abs(next_x - x) < tolerance:  \n",
    "            return next_x  \n",
    "        x = next_x  \n",
    "    return x  \n",
    "print(cube_root(8))"
   ]
  },
  {
   "cell_type": "markdown",
   "metadata": {},
   "source": [
    "该算法利用牛顿迭代公式。对于负数，先取绝对值求解之后再取解的相反数，并自取了最大迭代次数和可接受的误差范围"
   ]
  },
  {
   "cell_type": "code",
   "execution_count": 25,
   "metadata": {},
   "outputs": [
    {
     "name": "stdout",
     "output_type": "stream",
     "text": [
      "120\n"
     ]
    }
   ],
   "source": [
    "n=int(input(\"n: \"))\n",
    "cheng=1\n",
    "for i in range(1,n+1,1):\n",
    "    cheng*=i\n",
    "print(cheng)"
   ]
  }
 ],
 "metadata": {
  "kernelspec": {
   "display_name": "Python 3",
   "language": "python",
   "name": "python3"
  },
  "language_info": {
   "codemirror_mode": {
    "name": "ipython",
    "version": 3
   },
   "file_extension": ".py",
   "mimetype": "text/x-python",
   "name": "python",
   "nbconvert_exporter": "python",
   "pygments_lexer": "ipython3",
   "version": "3.11.8"
  }
 },
 "nbformat": 4,
 "nbformat_minor": 2
}
