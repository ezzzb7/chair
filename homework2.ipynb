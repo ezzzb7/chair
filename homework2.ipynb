{
 "cells": [
  {
   "cell_type": "markdown",
   "metadata": {},
   "source": [
    "1. 编写 Python 程序，求两个正整数的最大公约数。"
   ]
  },
  {
   "cell_type": "code",
   "execution_count": 3,
   "metadata": {},
   "outputs": [
    {
     "name": "stdout",
     "output_type": "stream",
     "text": [
      "10\n"
     ]
    }
   ],
   "source": [
    "x=int(input(\"x:\"))\n",
    "y=int(input(\"y:\"))\n",
    "while y!=0:\n",
    "    x,y=y,x%y\n",
    "print(x)"
   ]
  },
  {
   "cell_type": "markdown",
   "metadata": {},
   "source": [
    "2. 用if语句实现百分制转等级制（考试成绩，60分以下不合格，60—74分合格，75—89分为良好，90分以上为优秀）"
   ]
  },
  {
   "cell_type": "code",
   "execution_count": 2,
   "metadata": {},
   "outputs": [
    {
     "name": "stdout",
     "output_type": "stream",
     "text": [
      "score: 74.0\n",
      "考试成绩合格\n"
     ]
    }
   ],
   "source": [
    "s=float(input(\"score:\"))\n",
    "print(\"score:\",s)\n",
    "if s<60:\n",
    "    print(\"考试成绩不合格\")\n",
    "elif s>=60 and s<=74:\n",
    "    print(\"考试成绩合格\")\n",
    "elif s>=75 and s<=89:\n",
    "    print(\"考试成绩良好\")\n",
    "elif s>=90:\n",
    "    print(\"考试成绩优秀\")"
   ]
  },
  {
   "cell_type": "markdown",
   "metadata": {},
   "source": [
    "3. 编写Python程序，完成十到二进制小数的转换\n",
    "相关数学原理：https://cloud.tencent.com/developer/article/2155741"
   ]
  },
  {
   "cell_type": "code",
   "execution_count": 5,
   "metadata": {},
   "outputs": [
    {
     "name": "stdout",
     "output_type": "stream",
     "text": [
      "x: 1.5\n",
      "二进制小数为：1.1\n"
     ]
    }
   ],
   "source": [
    "x=float(input(\"十进制小数:\"))\n",
    "print(\"x:\",x)\n",
    "zheng=int(x)\n",
    "xiao=x-zheng\n",
    "answer1=''   #用字符来完成，就不用乘以10什么的\n",
    "if zheng==0:\n",
    "    answer1='0'\n",
    "else:\n",
    "    while zheng!=0:\n",
    "        answer1=str(zheng%2)+answer1\n",
    "        zheng//=2           #两个/确保是整数，如果写/=将有小数部分\n",
    "\n",
    "answer2=''\n",
    "count=0\n",
    "while xiao>0 and count<10:\n",
    "    xiao*=2\n",
    "    bit=int(xiao)\n",
    "    answer2=answer2+str(bit)\n",
    "    xiao-=bit\n",
    "    count+=1\n",
    "print(f\"二进制小数为：{answer1}.{answer2}\")"
   ]
  },
  {
   "cell_type": "markdown",
   "metadata": {},
   "source": [
    "4. 编写Python程序，产生10-20的随机浮点数"
   ]
  },
  {
   "cell_type": "code",
   "execution_count": 7,
   "metadata": {},
   "outputs": [
    {
     "name": "stdout",
     "output_type": "stream",
     "text": [
      "生成的随机浮点数为 14.222623367896182\n"
     ]
    }
   ],
   "source": [
    "import random\n",
    "random=random.uniform(10,20)\n",
    "print(f\"生成的随机浮点数为 {random}\")"
   ]
  },
  {
   "cell_type": "markdown",
   "metadata": {},
   "source": [
    "5. 编写一个Python函数，判断一个整数是否是回文数。回文数是指正序（从左向右）和倒序（从右向左）读都是一样的数。"
   ]
  },
  {
   "cell_type": "code",
   "execution_count": 5,
   "metadata": {},
   "outputs": [
    {
     "name": "stdout",
     "output_type": "stream",
     "text": [
      "123321\n",
      "123321\n",
      "yes\n"
     ]
    }
   ],
   "source": [
    "def huiwen(str1):\n",
    "    strzhuan=str1[::-1]\n",
    "    print(strzhuan)\n",
    "    if(str1==strzhuan):\n",
    "        print(\"yes\")\n",
    "    else:\n",
    "        print(\"no\")\n",
    "n=int(input(\"整数：\"))\n",
    "str1=str(n)\n",
    "print(str1)\n",
    "huiwen(str1)"
   ]
  },
  {
   "cell_type": "markdown",
   "metadata": {},
   "source": [
    "6.编写一个Python函数，返回一个包含斐\n",
    "波那契数列的前N个数的列表。斐波那契数列是一个数列，其中每个数是前两个数的和，数列以0和1开始"
   ]
  },
  {
   "cell_type": "code",
   "execution_count": 7,
   "metadata": {},
   "outputs": [
    {
     "name": "stdout",
     "output_type": "stream",
     "text": [
      "10\n",
      "[0, 1, 1, 2, 3, 5, 8, 13, 21, 34]\n"
     ]
    }
   ],
   "source": [
    "def feibo(n):\n",
    "    if(n<=0):\n",
    "        print([])\n",
    "    elif(n==1):\n",
    "        print([0])\n",
    "    elif(n==2):\n",
    "        print([0,1])\n",
    "    else:\n",
    "        s=[0,1]\n",
    "    for i in range(2,n):\n",
    "        shu=s[i-2]+s[i-1]\n",
    "        s.append(shu)\n",
    "    print(s)\n",
    "\n",
    "n=int(input(\"n:\"))\n",
    "print(n)\n",
    "feibo(n)"
   ]
  },
  {
   "cell_type": "markdown",
   "metadata": {},
   "source": [
    "7.编写一个Python函数，接受一个整数数组作为输入，返回数组中第二大的数。如果数组中只有一个元素或数组为空，则返回-1。"
   ]
  },
  {
   "cell_type": "code",
   "execution_count": 12,
   "metadata": {},
   "outputs": [
    {
     "name": "stdout",
     "output_type": "stream",
     "text": [
      "-1\n",
      "-1\n",
      "100\n"
     ]
    }
   ],
   "source": [
    "def big2(nums):\n",
    "    if not nums: #kong\n",
    "        return -1\n",
    "    if len(nums)==1:\n",
    "        return -1\n",
    "    bigfirst=float('-inf')\n",
    "    bigsecond=bigfirst\n",
    "    for num in nums:\n",
    "        if num>bigfirst:\n",
    "            bigsecond=bigfirst\n",
    "            bigfirst=num\n",
    "        elif num >bigsecond:\n",
    "            bigsecond=num\n",
    "    return bigsecond\n",
    "print(big2([]))\n",
    "print(big2([1]))\n",
    "print(big2([1,2,3,4,5,6,7,8,9,100,200]))"
   ]
  },
  {
   "cell_type": "markdown",
   "metadata": {},
   "source": [
    "8. 编写一个函数，使其能够用正则表达式的方式简单验证身份证号是否合法。\n",
    "validate_id_card函数使用正则表达式模式来匹配身份证号。模式通过以下方式验证身份证号的格式：\n",
    "\n",
    "第一位必须是1-9的数字，不以0开头。\n",
    "接下来6位是地区码。\n",
    "紧接着8位是出生年份和月份。\n",
    "接下来2位是出生日。\n",
    "然后是3位顺序码（通常是随机数字）。\n",
    "最后一位可以是数字或大写字母X。\n",
    "^：表示匹配字符串的开头，确保正则表达式从字符串的开头开始匹配。\n",
    "\n",
    "[1-9]：表示第一位是数字，但不包括0。这是因为身份证号的第一位通常不是0。\n",
    "\n",
    "\\d{5}：表示接下来的5位是数字（0-9），共计6位，这部分用来表示地区编码。\n",
    "\n",
    "(19|20)：这是一个分组，用于匹配年份的前两位。身份证号通常使用19或20作为年份的前两位。\n",
    "\n",
    "\\d{2}：表示匹配年份的后两位，共计2位。\n",
    "\n",
    "(0[1-9]|1[0-2])：这是一个分组，用于匹配月份。月份的范围是01到12。这一部分可以匹配01到09月以及10到12月。\n",
    "\n",
    "(0[1-9]|[1-2]\\d|3[0-1])：这是一个分组，用于匹配日期。它可以匹配01到09日，10到29日，以及30到31日。\n",
    "\n",
    "\\d{3}：表示匹配身份证号中的顺序码，通常是3位数字。\n",
    "\n",
    "(\\d|X|x)：这是最后一部分，用于匹配身份证号的校验码。它可以是数字（0-9）或字母X（可以是大写或小写）。\n",
    "\n",
    "$：表示匹配字符串的结尾，确保正则表达式匹配到字符串的末尾。\n",
    "\n",
    "以下是一些常见的正则表达式模式：\n",
    "\n",
    "普通字符： 普通字符（例如字母、数字、标点符号等）表示它们自身。在示例中，\"apple\" 就是一个普通字符。\n",
    "\n",
    "特殊字符： 正则表达式中有一些特殊字符，如 .、*、+、? 等，它们具有特殊的含义。例如，\".\" 表示匹配任何字符，\"*\" 表示匹配前一个字符的零个或多个重复，\"+\" 表示匹配前一个字符的一个或多个重复，\"?\" 表示匹配前一个字符的零个或一个重复。这些特殊字符需要进行转义，如 \\.、\\*、\\+、\\? 来匹配它们自身。\n",
    "\n",
    "字符类： 使用 [...] 表示一个字符类，可以匹配括号内的任何一个字符。例如，[abc] 匹配字符 'a'、'b' 或 'c' 中的任何一个。\n",
    "\n",
    "范围字符类： 使用 [a-z] 表示匹配小写字母 'a' 到 'z' 中的任何一个字符。类似地，[0-9] 表示匹配数字 0 到 9 中的任何一个字符。\n",
    "\n",
    "反向字符类： 使用 [^...] 表示一个反向字符类，可以匹配不在括号内的任何字符。例如，[^0-9] 匹配任何非数字字符。\n",
    "\n",
    "预定义字符类： 正则表达式还提供了一些预定义的字符类，如 \\d 表示任何数字字符，\\w 表示任何字母、数字或下划线字符，\\s 表示任何空白字符。相应的大写形式 \\D、\\W、\\S 表示它们的补集。\n",
    "\n",
    "边界匹配： ^ 表示匹配字符串的开头，$ 表示匹配字符串的结尾。例如，\"^apple\" 匹配以 \"apple\" 开头的字符串。\n",
    "\n",
    "重复： 使用 {m} 表示前一个模式必须重复 m 次，使用 {m, n} 表示前一个模式必须重复至少 m 次，至多 n 次。例如，\"a{2,4}\" 匹配 \"aa\"、\"aaa\" 或 \"aaaa\"。\n",
    "\n",
    "逻辑操作： 正则表达式支持逻辑操作，如 | 表示或操作。例如，\"apple|banana\" 匹配 \"apple\" 或 \"banana\"。\n",
    "\n",
    "分组： 使用 () 创建分组，可以对模式进行分组和捕获。例如，\"(apple|banana)\" 匹配 \"apple\" 或 \"banana\"，并且可以通过捕获组来访问匹配的内容。\n",
    "\n",
    "在示例中，pattern 的形式是一个普通字符串 \"apple\"，它将匹配目标字符串的开头，只有当目标字符串以 \"apple\" 开头时才会找到匹配。"
   ]
  },
  {
   "cell_type": "code",
   "execution_count": 1,
   "metadata": {},
   "outputs": [
    {
     "name": "stdout",
     "output_type": "stream",
     "text": [
      "True\n",
      "True\n",
      "False\n",
      "False\n",
      "False\n"
     ]
    }
   ],
   "source": [
    "import re  \n",
    "  \n",
    "def validate_id_card(idcard):  \n",
    "    hefa=r'^[1-9]\\d{5}(19|20)\\d{2}(0[1-9]|1[0-2])(0[1-9]|[1-2]\\d|3[0-1])\\d{3}(\\d|X|x)$'  \n",
    "      \n",
    "    # 使用正则表达式进行匹配  \n",
    "    if re.match(hefa, idcard):  \n",
    "        return True  \n",
    "    else:  \n",
    "        return False  \n",
    "  \n",
    "# 测试一些示例  \n",
    "print(validate_id_card(\"11010520241231002X\"))  # True  \n",
    "print(validate_id_card(\"110105202412310029\"))  # True  \n",
    "print(validate_id_card(\"01010520241231002X\"))  # False (第一位是0)  \n",
    "print(validate_id_card(\"11010520241331002X\"))  # False (月份是13)  \n",
    "print(validate_id_card(\"11010520241231002A\"))  # False (校验码是A)"
   ]
  }
 ],
 "metadata": {
  "kernelspec": {
   "display_name": "Python 3",
   "language": "python",
   "name": "python3"
  },
  "language_info": {
   "codemirror_mode": {
    "name": "ipython",
    "version": 3
   },
   "file_extension": ".py",
   "mimetype": "text/x-python",
   "name": "python",
   "nbconvert_exporter": "python",
   "pygments_lexer": "ipython3",
   "version": "3.11.8"
  }
 },
 "nbformat": 4,
 "nbformat_minor": 2
}
