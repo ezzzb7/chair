{
 "cells": [
  {
   "cell_type": "markdown",
   "metadata": {},
   "source": [
    "1.编写 Python程序,判断输入a是否为质数"
   ]
  },
  {
   "cell_type": "code",
   "execution_count": 10,
   "metadata": {},
   "outputs": [
    {
     "name": "stdout",
     "output_type": "stream",
     "text": [
      "不是质数\n"
     ]
    }
   ],
   "source": [
    "a=int(input(\"输入a:\"))\n",
    "if(a<=1):\n",
    "    print(\"不是质数\")\n",
    "elif(a==2):\n",
    "    print(\"是质数\")\n",
    "elif(a%2==0):\n",
    "    print(\"不是质数\")\n",
    "else:\n",
    "    for i in range(3,int(a**0.5)+1,2):\n",
    "        if(a%i==0):\n",
    "            print(\"不是质数\")\n",
    "            break\n",
    "    else:\n",
    "        print(\"是质数\")"
   ]
  },
  {
   "cell_type": "markdown",
   "metadata": {},
   "source": [
    "2.用Python实现插入排序该算法，不允许直接调用插入排序函数，需要手动实现其逻辑过程。"
   ]
  },
  {
   "cell_type": "code",
   "execution_count": 9,
   "metadata": {},
   "outputs": [
    {
     "name": "stdout",
     "output_type": "stream",
     "text": [
      "[1, 7, 32, 32, 52, 54, 56, 89, 100]\n"
     ]
    }
   ],
   "source": [
    "def insertion(shuzu):\n",
    "    for i in range(1,len(shuzu),1):\n",
    "        j=i-1\n",
    "        k=shuzu[i]\n",
    "        while(shuzu[j]>k and j>=0):\n",
    "            shuzu[j+1]=shuzu[j]\n",
    "            j=j-1\n",
    "        shuzu[j+1]=k\n",
    "    return shuzu\n",
    "\n",
    "shuzu=[1,54,7,89,100,52,56,32,32]\n",
    "good=insertion(shuzu)\n",
    "print(good)"
   ]
  },
  {
   "cell_type": "markdown",
   "metadata": {},
   "source": [
    "3.用Python实现选择排序该算法，不允许直接调用插入排序函数，需要手动实现其逻辑过程"
   ]
  },
  {
   "cell_type": "code",
   "execution_count": 11,
   "metadata": {},
   "outputs": [
    {
     "name": "stdout",
     "output_type": "stream",
     "text": [
      "[1, 7, 32, 32, 52, 54, 56, 89, 100]\n"
     ]
    }
   ],
   "source": [
    "def selection(shuzu):\n",
    "    for i in range(0,len(shuzu)-1):  #0 to  n-2\n",
    "        small=i\n",
    "        for j in range(i+1,len(shuzu)):     #i+1 to n-1 qian baohan hou bubaohan\n",
    "            if(shuzu[j]<shuzu[small]):\n",
    "                small=j\n",
    "        shuzu[i],shuzu[small]=shuzu[small],shuzu[i]\n",
    "    return shuzu\n",
    "\n",
    "shuzu=[1,54,7,89,100,52,56,32,32]\n",
    "good=selection(shuzu)\n",
    "print(good)"
   ]
  },
  {
   "cell_type": "markdown",
   "metadata": {},
   "source": [
    "4.用Python实现快速排序该算法，不允许直接调用插入排序函数，需要手动实现其逻辑过程。"
   ]
  },
  {
   "cell_type": "code",
   "execution_count": 1,
   "metadata": {},
   "outputs": [
    {
     "name": "stdout",
     "output_type": "stream",
     "text": [
      "[1, 7, 32, 32, 52, 54, 56, 89, 100]\n"
     ]
    }
   ],
   "source": [
    "def quick(shuzu):\n",
    "    if len(shuzu) <= 1: \n",
    "        return shuzu\n",
    "    else:\n",
    "        pivot=shuzu[len(shuzu)-1]  \n",
    "        left=[] \n",
    "        middle=[]  \n",
    "        right=[]  \n",
    "        for x in shuzu:\n",
    "            if x<pivot:\n",
    "                left.append(x) \n",
    "            elif x==pivot:\n",
    "                middle.append(x)\n",
    "            else:\n",
    "                right.append(x)\n",
    "        return quick(left) + middle + quick(right)\n",
    "\n",
    "shuzu=[1,54,7,89,100,52,56,32,32]\n",
    "good=quick(shuzu)\n",
    "print(good)"
   ]
  },
  {
   "cell_type": "markdown",
   "metadata": {},
   "source": [
    "5.使用 Python 随机生成三组长度递增的随机数列，长度分别为100、1000、10000，对生成的随机数组使用不同的排序算法，例如选择排序和归并排序，至少三种排序方法。对这些数列的数据排序，并分析不同排序算法在不同长度数列下的运行效果，例如运行时间等指标。(可以使用排序函数)"
   ]
  },
  {
   "cell_type": "code",
   "execution_count": 7,
   "metadata": {},
   "outputs": [
    {
     "name": "stdout",
     "output_type": "stream",
     "text": [
      "length:100\n",
      "insertion耗时 0.000000 秒\n",
      "selection耗时：0.004091 秒\n",
      "quick耗时：0.000000 秒\n",
      "\n",
      "length:1000\n",
      "insertion耗时 0.009890 秒\n",
      "selection耗时：0.005308 秒\n",
      "quick耗时：0.000000 秒\n",
      "\n",
      "length:10000\n",
      "insertion耗时 1.170494 秒\n",
      "selection耗时：1.169559 秒\n",
      "quick耗时：0.013687 秒\n",
      "\n"
     ]
    }
   ],
   "source": [
    "import random\n",
    "import time \n",
    "def randomshuzu(length):\n",
    "    return [random.randint(0,10000) for _ in range(length)]\n",
    "\n",
    "def measuretime(function,shuzu):\n",
    "    start=time.time()\n",
    "    good=function(shuzu)\n",
    "    end=time.time()\n",
    "    return good,end-start\n",
    "\n",
    "def insertion(shuzu):\n",
    "    for i in range(1,len(shuzu),1):\n",
    "        j=i-1\n",
    "        k=shuzu[i]\n",
    "        while(shuzu[j]>k and j>=0):\n",
    "            shuzu[j+1]=shuzu[j]\n",
    "            j=j-1\n",
    "        shuzu[j+1]=k\n",
    "    return shuzu\n",
    "\n",
    "def selection(shuzu):\n",
    "    for i in range(0,len(shuzu)-1):  #0 to  n-2\n",
    "        small=i\n",
    "        for j in range(i+1,len(shuzu)):     #i+1 to n-1 qian baohan hou bubaohan\n",
    "            if(shuzu[j]<shuzu[small]):\n",
    "                small=j\n",
    "        shuzu[i],shuzu[small]=shuzu[small],shuzu[i]\n",
    "    return shuzu\n",
    "\n",
    "def quick(shuzu):\n",
    "    if len(shuzu) <= 1: \n",
    "        return shuzu\n",
    "    else:\n",
    "        pivot=shuzu[len(shuzu)-1]  \n",
    "        left=[] \n",
    "        middle=[]  \n",
    "        right=[]  \n",
    "        for x in shuzu:\n",
    "            if x<pivot:\n",
    "                left.append(x) \n",
    "            elif x==pivot:\n",
    "                middle.append(x)\n",
    "            else:\n",
    "                right.append(x)\n",
    "        return quick(left) + middle + quick(right)\n",
    "    \n",
    "lengths=[100,1000,10000]\n",
    "for length in lengths:\n",
    "    shuzu=randomshuzu(length)\n",
    "    print(f\"length:{length}\")\n",
    "    \n",
    "    good,time1=measuretime(insertion,shuzu.copy())\n",
    "    print(f\"insertion耗时 {time1:.6f} 秒\")\n",
    "    \n",
    "    good,time2=measuretime(selection,shuzu.copy())\n",
    "    print(f\"selection耗时：{time2:.6f} 秒\")\n",
    "    \n",
    "    good,time3=measuretime(quick,shuzu.copy())\n",
    "    print(f\"quick耗时：{time3:.6f} 秒\")\n",
    "    \n",
    "    print()  # 分隔不同length"
   ]
  },
  {
   "cell_type": "markdown",
   "metadata": {},
   "source": [
    "可以看到快速排序无论在什么长度的数组下都表现出很快的特点。\n",
    "插入排序和选择排序在数量达到10000时相差不大，但100时insertion快，1000时selection快。"
   ]
  },
  {
   "cell_type": "markdown",
   "metadata": {},
   "source": [
    "6.使用python代码获取当前系统时间"
   ]
  },
  {
   "cell_type": "code",
   "execution_count": 2,
   "metadata": {},
   "outputs": [
    {
     "name": "stdout",
     "output_type": "stream",
     "text": [
      "当前系统时间为 2024-10-15 20:56:04\n"
     ]
    }
   ],
   "source": [
    "from datetime import datetime\n",
    "time = datetime.now()\n",
    "print(\"当前系统时间为\",time.strftime(\"%Y-%m-%d %H:%M:%S\"))"
   ]
  },
  {
   "cell_type": "markdown",
   "metadata": {},
   "source": [
    "7.homework/data文件夹下的stuGrade.csv文件中包含5位同学的学号、语文成绩、数学成绩和英语成绩，请先用记事本打开该文件，查看文件内容，然后编写Python程序，读取该文件，并计算出各科的平均成绩（保留2位小数）。"
   ]
  },
  {
   "cell_type": "code",
   "execution_count": 12,
   "metadata": {},
   "outputs": [
    {
     "name": "stdout",
     "output_type": "stream",
     "text": [
      "语文的平均成绩：82.60\n",
      "数学的平均成绩：81.00\n",
      "英语的平均成绩：81.80\n"
     ]
    }
   ],
   "source": [
    "import csv\n",
    "import time\n",
    "from time import sleep\n",
    "\n",
    "path1='D:/stuGrade.csv'\n",
    "path2='D:/my.txt'\n",
    "\n",
    "chinese_scores= []\n",
    "math_scores = []\n",
    "english_scores = []\n",
    "\n",
    "with open(path1, mode='r', newline='', encoding='utf-8') as file:\n",
    "    reader = csv.DictReader(file)\n",
    "    \n",
    "    for row in reader:\n",
    "        chinese_scores.append(int(row['chinese']))\n",
    "        math_scores.append(int(row['math']))\n",
    "        english_scores.append(int(row['english']))\n",
    "\n",
    "chinese=sum(chinese_scores)/5\n",
    "math=sum(math_scores)/5\n",
    "english=sum(english_scores)/5\n",
    "\n",
    "print(f\"语文的平均成绩：{chinese:.2f}\")\n",
    "print(f\"数学的平均成绩：{math:.2f}\")\n",
    "print(f\"英语的平均成绩：{english:.2f}\")\n",
    "\n",
    "avg=f\"{chinese:.2f},{math:.2f},{english:.2f}\"\n",
    "nowtime=time.strftime('%Y-%m-%d %H:%M:%S',time.localtime())\n",
    "sleep(2)\n",
    "delaytime=time.strftime('%Y-%m-%d %H:%M:%S',time.localtime())\n",
    "\n",
    "with open(path2, mode='w', encoding='utf-8') as txt_file:\n",
    "    txt_file.write(\"10235501452肖璟仪\\n\")\n",
    "    txt_file.write(f\"{avg}\\n\") \n",
    "    txt_file.write(f\"{nowtime}\\n\")  \n",
    "    txt_file.write(f\"{delaytime}\\n\") "
   ]
  },
  {
   "cell_type": "markdown",
   "metadata": {},
   "source": [
    "8.请在第7题的代码继续编写Python程序，将以下内容写入my.txt文件中，一并上传到github中。\n",
    "第1行：你的学号和姓名\n",
    "\n",
    "第2行：3门课程的平均成绩（任意课程），保留2位小数，以英文逗号间隔\n",
    "\n",
    "第3行：系统当前时间，格式例如2020-01-01 12:00:00\n",
    "\n",
    "第4行：两秒后的系统当前时间（利用sleep()方法）"
   ]
  }
 ],
 "metadata": {
  "kernelspec": {
   "display_name": "Python 3",
   "language": "python",
   "name": "python3"
  },
  "language_info": {
   "codemirror_mode": {
    "name": "ipython",
    "version": 3
   },
   "file_extension": ".py",
   "mimetype": "text/x-python",
   "name": "python",
   "nbconvert_exporter": "python",
   "pygments_lexer": "ipython3",
   "version": "3.11.8"
  }
 },
 "nbformat": 4,
 "nbformat_minor": 2
}
